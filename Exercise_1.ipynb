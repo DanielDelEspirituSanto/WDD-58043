{
  "nbformat": 4,
  "nbformat_minor": 0,
  "metadata": {
    "colab": {
      "name": "Exercise 1.ipynb",
      "provenance": [],
      "authorship_tag": "ABX9TyNgbmDz5b3VT+xhjl6Au+b7",
      "include_colab_link": true
    },
    "kernelspec": {
      "name": "python3",
      "display_name": "Python 3"
    },
    "language_info": {
      "name": "python"
    }
  },
  "cells": [
    {
      "cell_type": "markdown",
      "metadata": {
        "id": "view-in-github",
        "colab_type": "text"
      },
      "source": [
        "<a href=\"https://colab.research.google.com/github/DanielDelEspirituSanto/WDD-58043/blob/main/Exercise_1.ipynb\" target=\"_parent\"><img src=\"https://colab.research.google.com/assets/colab-badge.svg\" alt=\"Open In Colab\"/></a>"
      ]
    },
    {
      "cell_type": "markdown",
      "source": [
        "### Exercise 1 || Compute the area of a circle using the formula pi*r^2"
      ],
      "metadata": {
        "id": "hCFYvQz_qCDT"
      }
    },
    {
      "cell_type": "code",
      "execution_count": null,
      "metadata": {
        "colab": {
          "base_uri": "https://localhost:8080/"
        },
        "id": "yKF4xQ0Ok91O",
        "outputId": "c5f7c94b-6b99-45d5-b1e0-157a8213b557"
      },
      "outputs": [
        {
          "name": "stdout",
          "output_type": "stream",
          "text": [
            "Input your desired circle radius: \n",
            "2\n"
          ]
        },
        {
          "output_type": "execute_result",
          "data": {
            "text/plain": [
              "12.566"
            ]
          },
          "metadata": {},
          "execution_count": 14
        }
      ],
      "source": [
        "def areaofcircle(Radius):\n",
        "  pi = 3.1415\n",
        "  areac = (pi *(Radius **2))\n",
        "  return areac\n",
        "\n",
        "print(\"Input your desired circle radius: \")\n",
        "rad = int(input())\n",
        "\n",
        "areaofcircle(rad)"
      ]
    }
  ]
}